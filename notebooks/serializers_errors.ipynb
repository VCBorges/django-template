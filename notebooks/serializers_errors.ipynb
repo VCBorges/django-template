{
 "cells": [
  {
   "cell_type": "code",
   "execution_count": 1,
   "metadata": {},
   "outputs": [],
   "source": [
    "%load_ext autoreload\n",
    "%autoreload 2\n",
    "import sys\n",
    "sys.path.append('..')"
   ]
  },
  {
   "cell_type": "code",
   "execution_count": 2,
   "metadata": {},
   "outputs": [],
   "source": [
    "import os\n",
    "import django\n",
    "os.environ.setdefault('DJANGO_SETTINGS_MODULE', 'config.settings')\n",
    "os.environ[\"DJANGO_ALLOW_ASYNC_UNSAFE\"] = \"true\"\n",
    "django.setup()"
   ]
  },
  {
   "cell_type": "code",
   "execution_count": 3,
   "metadata": {},
   "outputs": [],
   "source": [
    "from rest_framework import serializers\n",
    "from rest_framework.exceptions import ValidationError,ErrorDetail"
   ]
  },
  {
   "cell_type": "code",
   "execution_count": 6,
   "metadata": {},
   "outputs": [
    {
     "name": "stdout",
     "output_type": "stream",
     "text": [
      "errors = {'field2': [ErrorDetail(string='This field is required.', code='required')], 'field3': [ErrorDetail(string='This field is required.', code='required')]}\n",
      "type(errors) = <class 'rest_framework.utils.serializer_helpers.ReturnDict'>\n",
      "validation_error = ValidationError({'field2': [ErrorDetail(string='This field is required.', code='required')], 'field3': [ErrorDetail(string='This field is required.', code='required')]})\n",
      "validation_error.detail = {'field2': [ErrorDetail(string='This field is required.', code='required')], 'field3': [ErrorDetail(string='This field is required.', code='required')]}\n"
     ]
    }
   ],
   "source": [
    "class TestErrorsSerializer(serializers.Serializer):\n",
    "    field1 = serializers.CharField()\n",
    "    field2 = serializers.CharField(required=True)\n",
    "    field3 = serializers.CharField(required=True)\n",
    "\n",
    "\n",
    "# class ChildSer\n",
    "\n",
    "\n",
    "serializer = TestErrorsSerializer(data={\n",
    "    'field1': 's',\n",
    "    # 'field2': 's',\n",
    "    # 'field3': 's',\n",
    "})\n",
    "serializer.is_valid()\n",
    "\n",
    "\n",
    "errors = serializer.errors\n",
    "\n",
    "print(f'{errors = }')\n",
    "print(f'{type(errors) = }')\n",
    "\n",
    "validation_error = ValidationError(errors)\n",
    "\n",
    "print(f'{validation_error = }')\n",
    "print(f'{validation_error.detail = }')"
   ]
  },
  {
   "cell_type": "code",
   "execution_count": 7,
   "metadata": {},
   "outputs": [
    {
     "name": "stdout",
     "output_type": "stream",
     "text": [
      "json.dumps(errors) = '{\"field2\": [\"This field is required.\"], \"field3\": [\"This field is required.\"]}'\n"
     ]
    }
   ],
   "source": [
    "import json\n",
    "\n",
    "print(f'{json.dumps(errors) = }')"
   ]
  },
  {
   "cell_type": "code",
   "execution_count": 8,
   "metadata": {},
   "outputs": [
    {
     "name": "stdout",
     "output_type": "stream",
     "text": [
      "False\n",
      "{}\n",
      "{'nested': {'nested_field': [ErrorDetail(string='A valid integer is required.', code='invalid')]}, 'list_field': {3: [ErrorDetail(string='A valid integer is required.', code='invalid')]}}\n",
      "json.dumps(serializer.errors) = '{\"nested\": {\"nested_field\": [\"A valid integer is required.\"]}, \"list_field\": {\"3\": [\"A valid integer is required.\"]}}'\n"
     ]
    }
   ],
   "source": [
    "class NestedSerializer(serializers.Serializer):\n",
    "    nested_field = serializers.IntegerField()\n",
    "\n",
    "class MySerializer(serializers.Serializer):\n",
    "    char_field = serializers.CharField(max_length=50)\n",
    "    nested = NestedSerializer()\n",
    "    list_field = serializers.ListField(child=serializers.IntegerField())\n",
    "\n",
    "# Example usage\n",
    "data = {\n",
    "    \"char_field\": \"Example String\",\n",
    "    \"nested\": {\"nested_field\": \"Nested Data\"},\n",
    "    \"list_field\": [1, 2, 3, 'dasds']\n",
    "}\n",
    "\n",
    "serializer = MySerializer(data=data)\n",
    "print(serializer.is_valid())  # True\n",
    "print(f'{serializer.validated_data}') \n",
    "print(f'{serializer.errors}') \n",
    "\n",
    "\n",
    "print(f'{json.dumps(serializer.errors) = }')"
   ]
  },
  {
   "cell_type": "code",
   "execution_count": 12,
   "metadata": {},
   "outputs": [
    {
     "name": "stdout",
     "output_type": "stream",
     "text": [
      "type(e) = <class 'rest_framework.exceptions.ValidationError'>\n",
      "e.detail = {'nested': {'nested_field': [ErrorDetail(string='A valid integer is required.', code='invalid')]}, 'list_field': {3: [ErrorDetail(string='A valid integer is required.', code='invalid')]}}\n",
      "json.dumps(e.detail) = '{\"nested\": {\"nested_field\": [\"A valid integer is required.\"]}, \"list_field\": {\"3\": [\"A valid integer is required.\"]}}'\n"
     ]
    }
   ],
   "source": [
    "try:\n",
    "    print(serializer.is_valid(raise_exception=True))  # True\n",
    "except Exception as e:\n",
    "    print(f'{type(e) = }')\n",
    "    print(f'{e.detail = }')\n",
    "    print(f'{json.dumps(e.detail) = }')\n"
   ]
  }
 ],
 "metadata": {
  "kernelspec": {
   "display_name": ".venv",
   "language": "python",
   "name": "python3"
  },
  "language_info": {
   "codemirror_mode": {
    "name": "ipython",
    "version": 3
   },
   "file_extension": ".py",
   "mimetype": "text/x-python",
   "name": "python",
   "nbconvert_exporter": "python",
   "pygments_lexer": "ipython3",
   "version": "3.12.8"
  }
 },
 "nbformat": 4,
 "nbformat_minor": 2
}
